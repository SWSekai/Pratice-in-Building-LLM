{
 "cells": [
  {
   "cell_type": "code",
<<<<<<< HEAD
   "execution_count": 11,
=======
   "execution_count": 1,
>>>>>>> 84883fc6b29d15152659fbade0af3f1c6c9ed51b
   "id": "30540e1e",
   "metadata": {},
   "outputs": [],
   "source": [
    "import re\n",
    "\n",
    "def tokenize(text):\n",
    "    \"\"\"\n",
    "        Simple tokenizer function\n",
    "    \"\"\"\n",
    "    # 使用正則表達式分割文本\n",
    "    tokens = re.split(r'([,.:;?_!\"()\\']|--|\\s)', text)\n",
    "    # 過濾掉空字符串\n",
    "    result = [token for token in tokens if token.strip()]\n",
    "    \n",
    "    return result"
   ]
  },
  {
   "cell_type": "code",
<<<<<<< HEAD
   "execution_count": 12,
=======
   "execution_count": 2,
>>>>>>> 84883fc6b29d15152659fbade0af3f1c6c9ed51b
   "id": "36d32fdb",
   "metadata": {},
   "outputs": [],
   "source": [
    "def token_to_id(tokens):\n",
    "    \"\"\"\n",
    "        transform token to token id\n",
    "    \"\"\"\n",
    "    allWords = sorted(set(tokens))\n",
    "    vocab = {token: idx for idx, token in enumerate(allWords)} # 建立詞彙表\n",
    "    \n",
    "    return vocab"
   ]
  },
  {
   "cell_type": "code",
<<<<<<< HEAD
   "execution_count": 13,
=======
   "execution_count": 3,
>>>>>>> 84883fc6b29d15152659fbade0af3f1c6c9ed51b
   "id": "22573fbb",
   "metadata": {},
   "outputs": [
    {
     "name": "stdout",
     "output_type": "stream",
     "text": [
      "字元數:['Hello', 'World', '.', 'This', 'is', 'a', 'test', '.']\n",
      "詞彙表索引: 0, 詞彙: ., ID: 0\n",
      "詞彙表索引: 1, 詞彙: Hello, ID: 1\n",
      "詞彙表索引: 2, 詞彙: This, ID: 2\n",
      "詞彙表索引: 3, 詞彙: World, ID: 3\n",
      "詞彙表索引: 4, 詞彙: a, ID: 4\n",
      "詞彙表索引: 5, 詞彙: is, ID: 5\n",
      "詞彙表索引: 6, 詞彙: test, ID: 6\n"
     ]
    }
   ],
   "source": [
    "# 測試\n",
    "text = \"Hello World. This is a test.\"\n",
    "\n",
    "testToken = tokenize(text)\n",
    "testVocab = token_to_id(testToken)\n",
    "\n",
    "print(f\"字元數:{testToken}\")\n",
    "\n",
    "for i, idx in enumerate(testVocab.items()):\n",
    "    print(f\"詞彙表索引: {i}, 詞彙: {idx[0]}, ID: {idx[1]}\")"
   ]
  },
  {
   "cell_type": "code",
<<<<<<< HEAD
   "execution_count": 14,
=======
   "execution_count": 4,
>>>>>>> 84883fc6b29d15152659fbade0af3f1c6c9ed51b
   "id": "beea1187",
   "metadata": {},
   "outputs": [
    {
     "name": "stdout",
     "output_type": "stream",
     "text": [
      "字元數: 20479\n",
      "預處理後的字元數: 4690\n"
     ]
    }
   ],
   "source": [
    "file_path = 'the-verdict.txt'\n",
    "\n",
    "with open(file_path, \"r\", encoding= \"utf-8\") as f:\n",
    "    rawText = f.read()\n",
    "    \n",
    "preprocessedText = tokenize(rawText)\n",
    "\n",
    "vocab = token_to_id(preprocessedText)\n",
    "\n",
    "print(f\"字元數: {len(rawText)}\")\n",
    "print(f\"預處理後的字元數: {len(preprocessedText)}\")"
   ]
  },
  {
   "cell_type": "code",
<<<<<<< HEAD
   "execution_count": null,
   "id": "0b369c26",
   "metadata": {},
   "outputs": [
    {
     "name": "stdout",
     "output_type": "stream",
     "text": [
      "[1, 56, 2, 850, 988, 602, 533, 746, 5, 1126, 596, 5, 1, 67, 7, 38, 851, 1108, 754, 793, 7]\n",
      "\" It' s the last he painted, you know,\" Mrs. Gisburn said with pardonable pride.\n"
     ]
    }
   ],
   "source": [
    "from simple_tokenizer import SimpletokenizerV1\n",
    "\n",
    "tokenizer = SimpletokenizerV1(vocab)\n",
    "text = \"\"\"\n",
    "        \"It's the last he painted, you know,\"\n",
    "        Mrs. Gisburn said with pardonable pride.\n",
    "        \"\"\"\n",
    "ids = tokenizer.encode(text)\n",
    "\n",
    "print(ids)\n",
    "print(tokenizer.decode(ids))"
=======
   "execution_count": 5,
   "id": "0b369c26",
   "metadata": {},
   "outputs": [],
   "source": [
    "from simple_tokenizer import SimpletokenizerV1\n",
    "\n",
    "text = \"It's the last he painted...\""
>>>>>>> 84883fc6b29d15152659fbade0af3f1c6c9ed51b
   ]
  }
 ],
 "metadata": {
  "kernelspec": {
   "display_name": "Python 3",
   "language": "python",
   "name": "python3"
  },
  "language_info": {
   "codemirror_mode": {
    "name": "ipython",
    "version": 3
   },
   "file_extension": ".py",
   "mimetype": "text/x-python",
   "name": "python",
   "nbconvert_exporter": "python",
   "pygments_lexer": "ipython3",
   "version": "3.10.6"
  }
 },
 "nbformat": 4,
 "nbformat_minor": 5
}
