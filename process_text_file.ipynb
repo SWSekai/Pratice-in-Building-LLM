{
 "cells": [
  {
   "cell_type": "code",
   "execution_count": 11,
   "id": "30540e1e",
   "metadata": {},
   "outputs": [],
   "source": [
    "import re\n",
    "\n",
    "def tokenize(text):\n",
    "    \"\"\"\n",
    "        Simple tokenizer function, 斷詞\n",
    "    \"\"\"\n",
    "    tokens = re.split(r'([,.:;?_!\"()\\']|--|\\s)', text) # 使用正則表達式分割文本\n",
    "    \n",
    "    result = [token for token in tokens if token.strip()] # 過濾掉空字符串\n",
    "    \n",
    "    return result"
   ]
  },
  {
   "cell_type": "code",
   "execution_count": 12,
   "id": "36d32fdb",
   "metadata": {},
   "outputs": [],
   "source": [
    "def token_to_id(tokens):\n",
    "    \"\"\"\n",
    "        transform token to token id\n",
    "    \"\"\"\n",
    "    all_tokens = sorted(list(set(tokens)))\n",
    "    all_tokens.extend([\"<|endoftext|>\", \"<|unk|>\"]) # 添加特殊標記\n",
    "    vocab = {token: idx for idx, token in enumerate(all_tokens)} # 建立詞彙表\n",
    "    \n",
    "    return vocab"
   ]
  },
  {
   "cell_type": "code",
   "execution_count": 13,
   "id": "22573fbb",
   "metadata": {},
   "outputs": [
    {
     "name": "stdout",
     "output_type": "stream",
     "text": [
      "字元數:['Hello', 'World', '.', 'This', 'is', 'a', 'test', '.']\n",
      "詞彙表索引: 0, 詞彙: ., ID: 0\n",
      "詞彙表索引: 1, 詞彙: Hello, ID: 1\n",
      "詞彙表索引: 2, 詞彙: This, ID: 2\n",
      "詞彙表索引: 3, 詞彙: World, ID: 3\n",
      "詞彙表索引: 4, 詞彙: a, ID: 4\n",
      "詞彙表索引: 5, 詞彙: is, ID: 5\n",
      "詞彙表索引: 6, 詞彙: test, ID: 6\n",
      "詞彙表索引: 7, 詞彙: <|endoftext|>, ID: 7\n",
      "詞彙表索引: 8, 詞彙: <|unk|>, ID: 8\n"
     ]
    }
   ],
   "source": [
    "# 測試\n",
    "text = \"Hello World. This is a test.\"\n",
    "\n",
    "testToken = tokenize(text)\n",
    "testVocab = token_to_id(testToken)\n",
    "\n",
    "print(f\"字元數:{testToken}\")\n",
    "\n",
    "for i, idx in enumerate(testVocab.items()):\n",
    "    print(f\"詞彙表索引: {i}, 詞彙: {idx[0]}, ID: {idx[1]}\")"
   ]
  },
  {
   "cell_type": "code",
   "execution_count": 14,
   "id": "beea1187",
   "metadata": {},
   "outputs": [
    {
     "name": "stdout",
     "output_type": "stream",
     "text": [
      "字元數: 20479\n",
      "預處理後的字元數: 4690\n",
      "詞彙表大小: 1132\n"
     ]
    }
   ],
   "source": [
    "file_path = 'the-verdict.txt'\n",
    "\n",
    "with open(file_path, \"r\", encoding= \"utf-8\") as f:\n",
    "    rawText = f.read()\n",
    "    \n",
    "preprocessedText = tokenize(rawText)\n",
    "\n",
    "vocab = token_to_id(preprocessedText)\n",
    "\n",
    "print(f\"字元數: {len(rawText)}\")\n",
    "print(f\"預處理後的字元數: {len(preprocessedText)}\")\n",
    "print(f\"詞彙表大小: {len(vocab)}\")"
   ]
  },
  {
   "cell_type": "code",
   "execution_count": 15,
   "id": "89812f7b",
   "metadata": {},
   "outputs": [
    {
     "name": "stdout",
     "output_type": "stream",
     "text": [
      "測試字詞：Hello, do you like tea? <|endoftext|> In the snlit terraces of the palace.\n",
      "=================================\n",
      "SimpleTokenizer\n",
      "[1131, 5, 355, 1126, 628, 975, 10, 1130, 55, 988, 1131, 984, 722, 988, 1131, 7]\n",
      "<|unk|>, do you like tea? <|endoftext|> In the <|unk|> terraces of the <|unk|>.\n",
      "=================================\n",
      "Tiktokenizer\n",
      "[15496, 11, 466, 345, 588, 8887, 30, 220, 50256, 554, 262, 3013, 18250, 8812, 2114, 286, 262, 20562, 13]\n",
      "Hello, do you like tea? <|endoftext|> In the snlit terraces of the palace.\n"
     ]
    }
   ],
   "source": [
    "from tokenizer import SimpleTokenizer\n",
    "import tiktoken\n",
    "\n",
    "tokenizer = SimpleTokenizer(vocab)\n",
    "bpe_tiktokenizer = tiktoken.get_encoding(\"gpt2\")\n",
    "\n",
    "text = \"\"\"\n",
    "        \"It's the last he painted, you know,\"\n",
    "        Mrs. Gisburn said with pardonable pride.\n",
    "        \"\"\"\n",
    "text1 = \"Hello, do you like tea?\"   \n",
    "text2 = \"In the snlit terraces of the palace.\"\n",
    "text_merged = \" <|endoftext|> \".join((text1, text2))\n",
    "print(f\"測試字詞：{text_merged}\")\n",
    "print(\"=================================\")\n",
    "# SimpleTokenizer\n",
    "ids = tokenizer.encode(text_merged)\n",
    "\n",
    "print(\"SimpleTokenizer\")\n",
    "print(ids)\n",
    "print(tokenizer.decode(ids))\n",
    "print(\"=================================\")\n",
    "# Tiktokenizer\n",
    "ids = bpe_tiktokenizer.encode(text_merged, allowed_special= {\"<|endoftext|>\"})\n",
    "\n",
    "print(\"Tiktokenizer\")\n",
    "print(ids)\n",
    "print(bpe_tiktokenizer.decode(ids))"
   ]
  },
  {
   "cell_type": "code",
   "execution_count": 16,
   "id": "0fc6027e",
   "metadata": {},
   "outputs": [
    {
     "name": "stdout",
     "output_type": "stream",
     "text": [
      " and --->  established\n",
      " and established --->  himself\n",
      " and established himself --->  in\n",
      " and established himself in --->  a\n"
     ]
    }
   ],
   "source": [
    "enc_text  = bpe_tiktokenizer.encode(rawText)\n",
    "enc_sample = enc_text[50:]\n",
    "\n",
    "context_size = 4 # 上下文大小\n",
    "x = enc_sample[:context_size] # 輸入的token\n",
    "y = enc_sample[1:context_size+1] # 預期預測目標\n",
    "\n",
    "for i in range(1, context_size+1):\n",
    "    context = enc_sample[:i]\n",
    "    target = enc_sample[i]\n",
    "    \n",
    "    # print(f\"{context} ---> {target}\")\n",
    "    print(bpe_tiktokenizer.decode(context), \"--->\", bpe_tiktokenizer.decode([target]))"
   ]
  }
 ],
 "metadata": {
  "kernelspec": {
   "display_name": "llm_builder-env",
   "language": "python",
   "name": "python3"
  },
  "language_info": {
   "codemirror_mode": {
    "name": "ipython",
    "version": 3
   },
   "file_extension": ".py",
   "mimetype": "text/x-python",
   "name": "python",
   "nbconvert_exporter": "python",
   "pygments_lexer": "ipython3",
   "version": "3.10.6"
  }
 },
 "nbformat": 4,
 "nbformat_minor": 5
}
