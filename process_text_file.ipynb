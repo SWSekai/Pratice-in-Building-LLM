{
 "cells": [
  {
   "cell_type": "code",
   "execution_count": 26,
   "id": "30540e1e",
   "metadata": {},
   "outputs": [],
   "source": [
    "import re\n",
    "\n",
    "def tokenize(text):\n",
    "    \"\"\"\n",
    "        Simple tokenizer function\n",
    "    \"\"\"\n",
    "    # 使用正則表達式分割文本\n",
    "    tokens = re.split(r'([,.:;?_!\"()\\']|--|\\s)', text)\n",
    "    # 過濾掉空字符串\n",
    "    result = [token for token in tokens if token.strip()]\n",
    "    \n",
    "    return result"
   ]
  },
  {
   "cell_type": "code",
   "execution_count": 27,
   "id": "36d32fdb",
   "metadata": {},
   "outputs": [],
   "source": [
    "def token_to_id(tokens):\n",
    "    \"\"\"\n",
    "        transform token to token id\n",
    "    \"\"\"\n",
    "    allWords = sorted(set(tokens))\n",
    "    vocab = {token: idx for idx, token in enumerate(allWords)} # 建立詞彙表\n",
    "    \n",
    "    return vocab"
   ]
  },
  {
   "cell_type": "code",
   "execution_count": null,
   "id": "22573fbb",
   "metadata": {},
   "outputs": [
    {
     "name": "stdout",
     "output_type": "stream",
     "text": [
      "字元數:['Hello', 'World', '.', 'This', 'is', 'a', 'test', '.']\n",
      "詞彙表索引: 0, 詞彙: ., ID: 0\n",
      "詞彙表索引: 1, 詞彙: Hello, ID: 1\n",
      "詞彙表索引: 2, 詞彙: This, ID: 2\n",
      "詞彙表索引: 3, 詞彙: World, ID: 3\n",
      "詞彙表索引: 4, 詞彙: a, ID: 4\n",
      "詞彙表索引: 5, 詞彙: is, ID: 5\n",
      "詞彙表索引: 6, 詞彙: test, ID: 6\n"
     ]
    }
   ],
   "source": [
    "# 測試\n",
    "text = \"Hello World. This is a test.\"\n",
    "\n",
    "testToken = tokenize(text)\n",
    "testVocab = token_to_id(testToken)\n",
    "\n",
    "print(f\"字元數:{testToken}\")\n",
    "\n",
    "for i, idx in enumerate(testVocab.items()):\n",
    "    print(f\"詞彙表索引: {i}, 詞彙: {idx[0]}, ID: {idx[1]}\")\n",
    "    if i >= 50:\n",
    "        break"
   ]
  },
  {
   "cell_type": "code",
   "execution_count": 29,
   "id": "beea1187",
   "metadata": {},
   "outputs": [
    {
     "name": "stdout",
     "output_type": "stream",
     "text": [
      "字元數: 20479\n"
     ]
    }
   ],
   "source": [
    "file_path = 'the-verdict.txt'\n",
    "\n",
    "with open(file_path, \"r\", encoding= \"utf-8\") as f:\n",
    "    rawText = f.read()\n",
    "    \n",
    "print(f\"字元數: {len(rawText)}\")"
   ]
  },
  {
   "cell_type": "code",
   "execution_count": 30,
   "id": "8f7ce235",
   "metadata": {},
   "outputs": [
    {
     "name": "stdout",
     "output_type": "stream",
     "text": [
      "預處理後的字元數: 4690\n"
     ]
    }
   ],
   "source": [
    "preprocessedText = tokenize(rawText)\n",
    "print(f\"預處理後的字元數: {len(preprocessedText)}\")"
   ]
  },
  {
   "cell_type": "code",
   "execution_count": 31,
   "id": "95622027",
   "metadata": {},
   "outputs": [],
   "source": [
    "vocab = token_to_id(preprocessedText)"
   ]
  }
 ],
 "metadata": {
  "kernelspec": {
   "display_name": "Python 3",
   "language": "python",
   "name": "python3"
  },
  "language_info": {
   "codemirror_mode": {
    "name": "ipython",
    "version": 3
   },
   "file_extension": ".py",
   "mimetype": "text/x-python",
   "name": "python",
   "nbconvert_exporter": "python",
   "pygments_lexer": "ipython3",
   "version": "3.10.6"
  }
 },
 "nbformat": 4,
 "nbformat_minor": 5
}
