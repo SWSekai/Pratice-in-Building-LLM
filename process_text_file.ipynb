{
 "cells": [
  {
   "cell_type": "code",
   "execution_count": 1,
   "id": "30540e1e",
   "metadata": {},
   "outputs": [
    {
     "name": "stdout",
     "output_type": "stream",
     "text": [
      "['Hello', 'World', '.', 'This', 'is', 'a', 'test', '.']\n"
     ]
    }
   ],
   "source": [
    "# Simple tokenizer function\n",
    "import re\n",
    "\n",
    "def tokenize(text):\n",
    "    # 使用正則表達式分割文本\n",
    "    tokens = re.split(r'([,.:;?_!\"()\\']|--|\\s)', text)\n",
    "    # 過濾掉空字符串\n",
    "    result = [token for token in tokens if token.strip()]\n",
    "    \n",
    "    return result\n",
    "\n",
    "# 測試\n",
    "text = \"Hello World. This is a test.\"\n",
    "\n",
    "token = tokenize(text)\n",
    "print(token)"
   ]
  },
  {
   "cell_type": "code",
   "execution_count": 2,
   "id": "beea1187",
   "metadata": {},
   "outputs": [
    {
     "name": "stdout",
     "output_type": "stream",
     "text": [
      "字元數: 20479\n"
     ]
    }
   ],
   "source": [
    "#import text file\n",
    "file_path = 'the-verdict.txt'\n",
    "\n",
    "with open(file_path, \"r\", encoding= \"utf-8\") as f:\n",
    "    raw_text = f.read()\n",
    "    \n",
    "print(f\"字元數: {len(raw_text)}\")"
   ]
  },
  {
   "cell_type": "code",
   "execution_count": 3,
   "id": "8f7ce235",
   "metadata": {},
   "outputs": [
    {
     "name": "stdout",
     "output_type": "stream",
     "text": [
      "預處理後的字元數: 4690\n"
     ]
    }
   ],
   "source": [
    "preprocessed_text = tokenize(raw_text)\n",
    "print(f\"預處理後的字元數: {len(preprocessed_text)}\")"
   ]
  },
  {
   "cell_type": "code",
   "execution_count": null,
   "id": "36d32fdb",
   "metadata": {},
   "outputs": [],
   "source": []
  }
 ],
 "metadata": {
  "kernelspec": {
   "display_name": "Python 3",
   "language": "python",
   "name": "python3"
  },
  "language_info": {
   "codemirror_mode": {
    "name": "ipython",
    "version": 3
   },
   "file_extension": ".py",
   "mimetype": "text/x-python",
   "name": "python",
   "nbconvert_exporter": "python",
   "pygments_lexer": "ipython3",
   "version": "3.10.6"
  }
 },
 "nbformat": 4,
 "nbformat_minor": 5
}
