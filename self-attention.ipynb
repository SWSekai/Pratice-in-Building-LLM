{
 "cells": [
  {
   "cell_type": "code",
   "execution_count": 1,
   "id": "efc9dfe6",
   "metadata": {},
   "outputs": [],
   "source": [
    "import torch"
   ]
  },
  {
   "cell_type": "code",
   "execution_count": 2,
   "id": "2ac28ce3",
   "metadata": {},
   "outputs": [],
   "source": [
    "def softmax_native(x):\n",
    "    \"\"\"\n",
    "        softmax函式進行正規化\n",
    "    \"\"\"\n",
    "    return torch.exp(x) / torch.exp(x).sum(dim= 0)"
   ]
  },
  {
   "cell_type": "code",
   "execution_count": 3,
   "id": "a78b13c2",
   "metadata": {},
   "outputs": [],
   "source": [
    "inputs = torch.tensor(\n",
    "    [[0.43, 0.15, 0.89],\n",
    "     [0.55, 0.87, 0.66],\n",
    "     [0.57, 0.85, 0.64],\n",
    "     [0.22, 0.58, 0.33],\n",
    "     [0.77, 0.25, 0.10],\n",
    "     [0.05, 0.80, 0.55]]\n",
    ")\n",
    "\n",
    "query =  inputs[1] # 查詢目標\n",
    "attention_score = torch.empty(inputs.shape[0]) # 建立空的注意力分數張量"
   ]
  },
  {
   "cell_type": "code",
   "execution_count": null,
   "id": "3ae03b04",
   "metadata": {},
   "outputs": [
    {
     "name": "stdout",
     "output_type": "stream",
     "text": [
      "Attention Score:  tensor([0.9544, 1.4950, 1.4754, 0.8434, 0.7070, 1.0865])\n"
     ]
    }
   ],
   "source": [
    "for i, i_value in enumerate(inputs):\n",
    "    attention_score[i] = torch.dot(i_value, query) # 計算查詢目標與每個鍵的點積\n",
    "print(\"Attention Score: \", attention_score)"
   ]
  },
  {
   "cell_type": "code",
   "execution_count": null,
   "id": "c5229c5c",
   "metadata": {},
   "outputs": [
    {
     "name": "stdout",
     "output_type": "stream",
     "text": [
      "Attention Weight:  tensor([0.1455, 0.2278, 0.2249, 0.1285, 0.1077, 0.1656])\n",
      "Sum of Attention Weight:  tensor(1.0000)\n"
     ]
    }
   ],
   "source": [
    "# Simple normalization\n",
    "attention_weight = attention_score / attention_score.sum() # 計算注意力權重(總和為1)\n",
    "print(\"Attention Weight: \", attention_weight)\n",
    "print(\"Sum of Attention Weight: \", attention_weight.sum())\n"
   ]
  },
  {
   "cell_type": "code",
   "execution_count": null,
   "id": "eb5ab09d",
   "metadata": {},
   "outputs": [
    {
     "name": "stdout",
     "output_type": "stream",
     "text": [
      "Softmax Attention Weight:  tensor([0.1385, 0.2379, 0.2333, 0.1240, 0.1082, 0.1581])\n",
      "Sum of Softmax Attention Weight:  tensor(1.)\n"
     ]
    }
   ],
   "source": [
    "# softmax normalization\n",
    "attention_weight_softmax_naive = softmax_native(attention_score)\n",
    "print(\"Softmax Attention Weight: \", attention_weight_softmax_naive)\n",
    "print(\"Sum of Softmax Attention Weight: \", attention_weight_softmax_naive.sum())"
   ]
  },
  {
   "cell_type": "code",
   "execution_count": null,
   "id": "86bf67ec",
   "metadata": {},
   "outputs": [
    {
     "name": "stdout",
     "output_type": "stream",
     "text": [
      "Softmax Attention Weight (PyTorch):  tensor([0.1385, 0.2379, 0.2333, 0.1240, 0.1082, 0.1581])\n",
      "Sum of Softmax Attention Weight (PyTorch):  tensor(1.)\n"
     ]
    }
   ],
   "source": [
    "# PyTorch softmax normalization\n",
    "attention_weight_softmax = torch.softmax(attention_score, dim= 0)\n",
    "print(\"Softmax Attention Weight (PyTorch): \", attention_weight_softmax)\n",
    "print(\"Sum of Softmax Attention Weight (PyTorch): \", attention_weight_softmax.sum())"
   ]
  },
  {
   "cell_type": "code",
   "execution_count": 8,
   "id": "48401b6d",
   "metadata": {},
   "outputs": [
    {
     "name": "stdout",
     "output_type": "stream",
     "text": [
      "Context Vector:  tensor([0.4419, 0.6515, 0.5683])\n"
     ]
    }
   ],
   "source": [
    "context_vec = torch.zeros(query.shape)\n",
    "for i, i_value in enumerate(inputs):\n",
    "    context_vec += attention_weight_softmax[i]*i_value # 計算加權後的上下文向量\n",
    "print(\"Context Vector: \", context_vec)"
   ]
  }
 ],
 "metadata": {
  "kernelspec": {
   "display_name": "llm_builder-env",
   "language": "python",
   "name": "python3"
  },
  "language_info": {
   "codemirror_mode": {
    "name": "ipython",
    "version": 3
   },
   "file_extension": ".py",
   "mimetype": "text/x-python",
   "name": "python",
   "nbconvert_exporter": "python",
   "pygments_lexer": "ipython3",
   "version": "3.10.6"
  }
 },
 "nbformat": 4,
 "nbformat_minor": 5
}
