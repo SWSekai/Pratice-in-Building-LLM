{
 "cells": [
  {
   "cell_type": "code",
   "execution_count": 1,
   "id": "efc9dfe6",
   "metadata": {},
   "outputs": [],
   "source": [
    "import torch"
   ]
  },
  {
   "cell_type": "markdown",
   "id": "a8b1c1f9",
   "metadata": {},
   "source": [
    "# Test Area"
   ]
  },
  {
   "cell_type": "markdown",
   "id": "0bc79469",
   "metadata": {},
   "source": [
    "以向量第二項的計算為例"
   ]
  },
  {
   "cell_type": "code",
   "execution_count": 2,
   "id": "a78b13c2",
   "metadata": {},
   "outputs": [],
   "source": [
    "inputs = torch.tensor(\n",
    "    [[0.43, 0.15, 0.89],\n",
    "     [0.55, 0.87, 0.66],\n",
    "     [0.57, 0.85, 0.64],\n",
    "     [0.22, 0.58, 0.33],\n",
    "     [0.77, 0.25, 0.10],\n",
    "     [0.05, 0.80, 0.55]]\n",
    ")\n",
    "\n",
    "query =  inputs[1] # 查詢目標\n",
    "attention_score = torch.empty(inputs.shape[0]) # 建立空的注意力分數張量"
   ]
  },
  {
   "cell_type": "code",
   "execution_count": 3,
   "id": "3ae03b04",
   "metadata": {},
   "outputs": [
    {
     "name": "stdout",
     "output_type": "stream",
     "text": [
      "Attention Score:  tensor([0.9544, 1.4950, 1.4754, 0.8434, 0.7070, 1.0865])\n"
     ]
    }
   ],
   "source": [
    "for i, i_value in enumerate(inputs): # 迭代x_i\n",
    "    attention_score[i] = torch.dot(i_value, query) # 計算查詢目標與每個鍵的點積\n",
    "    \n",
    "print(\"Attention Score: \", attention_score)"
   ]
  },
  {
   "cell_type": "code",
   "execution_count": null,
   "id": "c5229c5c",
   "metadata": {},
   "outputs": [
    {
     "name": "stdout",
     "output_type": "stream",
     "text": [
      "Attention Weight:  tensor([0.1455, 0.2278, 0.2249, 0.1285, 0.1077, 0.1656])\n",
      "Sum of Attention Weight:  tensor(1.0000)\n"
     ]
    }
   ],
   "source": [
    "# Simple ormalization\n",
    "attention_weight = attention_score / attention_score.sum() # 計算注意力權重(總和為1)\n",
    "\n",
    "print(\"Attention Weight: \", attention_weight)\n",
    "print(\"Sum of Attention Weight: \", attention_weight.sum())\n"
   ]
  },
  {
   "cell_type": "code",
   "execution_count": 5,
   "id": "eb5ab09d",
   "metadata": {},
   "outputs": [
    {
     "name": "stdout",
     "output_type": "stream",
     "text": [
      "Softmax Attention Weight:  tensor([0.1385, 0.2379, 0.2333, 0.1240, 0.1082, 0.1581])\n",
      "Sum of Softmax Attention Weight:  tensor(1.)\n"
     ]
    }
   ],
   "source": [
    "# Softmax Normalization\n",
    "def softmax_native(x):\n",
    "    \"\"\"\n",
    "        softmax函式進行正規化\n",
    "    \"\"\"\n",
    "    return torch.exp(x) / torch.exp(x).sum(dim= 0)\n",
    "\n",
    "attention_weight_softmax_naive = softmax_native(attention_score)\n",
    "\n",
    "print(\"Softmax Attention Weight: \", attention_weight_softmax_naive)\n",
    "print(\"Sum of Softmax Attention Weight: \", attention_weight_softmax_naive.sum())"
   ]
  },
  {
   "cell_type": "code",
   "execution_count": 6,
   "id": "86bf67ec",
   "metadata": {},
   "outputs": [
    {
     "name": "stdout",
     "output_type": "stream",
     "text": [
      "Softmax Attention Weight (PyTorch):  tensor([0.1385, 0.2379, 0.2333, 0.1240, 0.1082, 0.1581])\n",
      "Sum of Softmax Attention Weight (PyTorch):  tensor(1.)\n"
     ]
    }
   ],
   "source": [
    "# PyTorch Softmax Normalization\n",
    "attention_weight_softmax = torch.softmax(attention_score, dim= 0)\n",
    "\n",
    "print(\"Softmax Attention Weight (PyTorch): \", attention_weight_softmax)\n",
    "print(\"Sum of Softmax Attention Weight (PyTorch): \", attention_weight_softmax.sum())"
   ]
  },
  {
   "cell_type": "code",
   "execution_count": null,
   "id": "48401b6d",
   "metadata": {},
   "outputs": [
    {
     "name": "stdout",
     "output_type": "stream",
     "text": [
      "Context Vector:  tensor([0.4419, 0.6515, 0.5683])\n"
     ]
    }
   ],
   "source": [
    "context_vec = torch.zeros(query.shape)\n",
    "\n",
    "for i, i_value in enumerate(inputs):\n",
    "    context_vec += attention_weight_softmax[i] * i_value # 計算加權後的上下文向量\n",
    "print(\"Context Vector: \", context_vec)"
   ]
  },
  {
   "cell_type": "markdown",
   "id": "bfb85111",
   "metadata": {},
   "source": [
    "# Regular Code"
   ]
  },
  {
   "cell_type": "code",
   "execution_count": 13,
   "id": "17e77339",
   "metadata": {},
   "outputs": [
    {
     "name": "stdout",
     "output_type": "stream",
     "text": [
      "tensor([[0.9995, 0.9544, 0.9422, 0.4753, 0.4576, 0.6310],\n",
      "        [0.9544, 1.4950, 1.4754, 0.8434, 0.7070, 1.0865],\n",
      "        [0.9422, 1.4754, 1.4570, 0.8296, 0.7154, 1.0605],\n",
      "        [0.4753, 0.8434, 0.8296, 0.4937, 0.3474, 0.6565],\n",
      "        [0.4576, 0.7070, 0.7154, 0.3474, 0.6654, 0.2935],\n",
      "        [0.6310, 1.0865, 1.0605, 0.6565, 0.2935, 0.9450]])\n"
     ]
    }
   ],
   "source": [
    "# Caculate Context vector of all inputs\n",
    "attention_scores = torch.empty((inputs.shape[0], inputs.shape[0]))\n",
    "\n",
    "\"\"\"\n",
    "for i, i_value in enumerate(inputs):\n",
    "    for j, j_value in enumerate(inputs):\n",
    "        attention_scores[i,j] = torch.dot(i_value, j_value)\n",
    "\"\"\"\n",
    "attention_scores = inputs @ inputs.T # 使用矩陣乘法計算注意力分數(較for迴圈迅速)\n",
    "\n",
    "print(attention_scores)"
   ]
  },
  {
   "cell_type": "code",
   "execution_count": null,
   "id": "d8c074b3",
   "metadata": {},
   "outputs": [
    {
     "name": "stdout",
     "output_type": "stream",
     "text": [
      "tensor([[0.2098, 0.2006, 0.1981, 0.1242, 0.1220, 0.1452],\n",
      "        [0.1385, 0.2379, 0.2333, 0.1240, 0.1082, 0.1581],\n",
      "        [0.1390, 0.2369, 0.2326, 0.1242, 0.1108, 0.1565],\n",
      "        [0.1435, 0.2074, 0.2046, 0.1462, 0.1263, 0.1720],\n",
      "        [0.1526, 0.1958, 0.1975, 0.1367, 0.1879, 0.1295],\n",
      "        [0.1385, 0.2184, 0.2128, 0.1420, 0.0988, 0.1896]])\n"
     ]
    }
   ],
   "source": [
    "attention_weights = torch.softmax(attention_scores, dim=-1) # dim函數指定處理的維度，dim=-1表示要求最後一個維度的softmax\n",
    "\n",
    "print(attention_weights)"
   ]
  },
  {
   "cell_type": "code",
   "execution_count": 14,
   "id": "7b00377c",
   "metadata": {},
   "outputs": [
    {
     "name": "stdout",
     "output_type": "stream",
     "text": [
      "tensor([[0.4421, 0.5931, 0.5790],\n",
      "        [0.4419, 0.6515, 0.5683],\n",
      "        [0.4431, 0.6496, 0.5671],\n",
      "        [0.4304, 0.6298, 0.5510],\n",
      "        [0.4671, 0.5910, 0.5266],\n",
      "        [0.4177, 0.6503, 0.5645]])\n"
     ]
    }
   ],
   "source": [
    "all_context_vec = attention_weights @ inputs # 使用矩陣乘法計算所有上下文向量\n",
    "\n",
    "print(all_context_vec)"
   ]
  },
  {
   "cell_type": "code",
   "execution_count": null,
   "id": "eeb67f16",
   "metadata": {},
   "outputs": [],
   "source": [
    "# Todo: 模組化"
   ]
  }
 ],
 "metadata": {
  "kernelspec": {
   "display_name": "llm_builder-env",
   "language": "python",
   "name": "python3"
  },
  "language_info": {
   "codemirror_mode": {
    "name": "ipython",
    "version": 3
   },
   "file_extension": ".py",
   "mimetype": "text/x-python",
   "name": "python",
   "nbconvert_exporter": "python",
   "pygments_lexer": "ipython3",
   "version": "3.10.6"
  }
 },
 "nbformat": 4,
 "nbformat_minor": 5
}
